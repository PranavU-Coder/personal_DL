{
 "cells": [
  {
   "cell_type": "markdown",
   "id": "fc098193",
   "metadata": {},
   "source": [
    "imports"
   ]
  },
  {
   "cell_type": "code",
   "execution_count": 2,
   "id": "9145426b",
   "metadata": {},
   "outputs": [],
   "source": [
    "import tensorflow as tf"
   ]
  },
  {
   "cell_type": "markdown",
   "id": "ceddf5a5",
   "metadata": {},
   "source": [
    "sample inputs"
   ]
  },
  {
   "cell_type": "code",
   "execution_count": 3,
   "id": "664bda88",
   "metadata": {},
   "outputs": [],
   "source": [
    "sentences = [\n",
    "    'i love my dog',\n",
    "    'I, love my cat'\n",
    "    ]"
   ]
  },
  {
   "cell_type": "markdown",
   "id": "eea272b9",
   "metadata": {},
   "source": [
    "initialize layer , build vocab and ignore special characters/tokens for now"
   ]
  },
  {
   "cell_type": "code",
   "execution_count": 4,
   "id": "793d88e9",
   "metadata": {},
   "outputs": [
    {
     "name": "stderr",
     "output_type": "stream",
     "text": [
      "I0000 00:00:1754250335.794593   25143 gpu_device.cc:2019] Created device /job:localhost/replica:0/task:0/device:GPU:0 with 2905 MB memory:  -> device: 0, name: NVIDIA GeForce RTX 4060 Laptop GPU, pci bus id: 0000:01:00.0, compute capability: 8.9\n"
     ]
    }
   ],
   "source": [
    "vectorize_layer = tf.keras.layers.TextVectorization()\n",
    "\n",
    "vectorize_layer.adapt(sentences)\n",
    "\n",
    "vocabulary = vectorize_layer.get_vocabulary(include_special_tokens=False)"
   ]
  },
  {
   "cell_type": "code",
   "execution_count": 5,
   "id": "543a3148",
   "metadata": {},
   "outputs": [
    {
     "name": "stdout",
     "output_type": "stream",
     "text": [
      "0 my\n",
      "1 love\n",
      "2 i\n",
      "3 dog\n",
      "4 cat\n"
     ]
    }
   ],
   "source": [
    "for index, word in enumerate(vocabulary):\n",
    "  print(index, word)"
   ]
  },
  {
   "cell_type": "markdown",
   "id": "81a6ac6a",
   "metadata": {},
   "source": [
    "adding another layer of input"
   ]
  },
  {
   "cell_type": "code",
   "execution_count": 6,
   "id": "831d02a8",
   "metadata": {},
   "outputs": [],
   "source": [
    "sentences = [\n",
    "    'i love my dog',\n",
    "    'I, love my cat',\n",
    "    'You love my dog!'\n",
    "]\n",
    "\n",
    "vectorize_layer = tf.keras.layers.TextVectorization()\n",
    "\n",
    "vectorize_layer.adapt(sentences)\n",
    "\n",
    "vocabulary = vectorize_layer.get_vocabulary(include_special_tokens=False)"
   ]
  },
  {
   "cell_type": "markdown",
   "id": "3fdc09b4",
   "metadata": {},
   "source": [
    "getting new tokens"
   ]
  },
  {
   "cell_type": "code",
   "execution_count": 7,
   "id": "5361b5da",
   "metadata": {},
   "outputs": [
    {
     "name": "stdout",
     "output_type": "stream",
     "text": [
      "0 my\n",
      "1 love\n",
      "2 i\n",
      "3 dog\n",
      "4 you\n",
      "5 cat\n"
     ]
    }
   ],
   "source": [
    "for index, word in enumerate(vocabulary):\n",
    "  print(index, word)"
   ]
  },
  {
   "cell_type": "markdown",
   "id": "3ae611f7",
   "metadata": {},
   "source": [
    "including the special tokens"
   ]
  },
  {
   "cell_type": "code",
   "execution_count": 8,
   "id": "a86e876d",
   "metadata": {},
   "outputs": [
    {
     "name": "stdout",
     "output_type": "stream",
     "text": [
      "0 \n",
      "1 [UNK]\n",
      "2 my\n",
      "3 love\n",
      "4 i\n",
      "5 dog\n",
      "6 you\n",
      "7 cat\n"
     ]
    }
   ],
   "source": [
    "vocabulary = vectorize_layer.get_vocabulary()\n",
    "\n",
    "for index, word in enumerate(vocabulary):\n",
    "  print(index, word)"
   ]
  }
 ],
 "metadata": {
  "kernelspec": {
   "display_name": ".venv",
   "language": "python",
   "name": "python3"
  },
  "language_info": {
   "codemirror_mode": {
    "name": "ipython",
    "version": 3
   },
   "file_extension": ".py",
   "mimetype": "text/x-python",
   "name": "python",
   "nbconvert_exporter": "python",
   "pygments_lexer": "ipython3",
   "version": "3.12.11"
  }
 },
 "nbformat": 4,
 "nbformat_minor": 5
}
