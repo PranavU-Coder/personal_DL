{
 "cells": [
  {
   "cell_type": "markdown",
   "id": "fc098193",
   "metadata": {},
   "source": [
    "imports"
   ]
  },
  {
   "cell_type": "code",
   "execution_count": 2,
   "id": "9145426b",
   "metadata": {},
   "outputs": [],
   "source": [
    "import tensorflow as tf"
   ]
  },
  {
   "cell_type": "markdown",
   "id": "ceddf5a5",
   "metadata": {},
   "source": [
    "sample inputs"
   ]
  },
  {
   "cell_type": "code",
   "execution_count": 3,
   "id": "664bda88",
   "metadata": {},
   "outputs": [],
   "source": [
    "sentences = [\n",
    "    'I love my dog',\n",
    "    'I love my cat',\n",
    "    'You love my dog!',\n",
    "    'Do you think my dog is amazing?'\n",
    "    ]"
   ]
  },
  {
   "cell_type": "markdown",
   "id": "eea272b9",
   "metadata": {},
   "source": [
    "initialize layer , building vocab , taking in special tokens/characters in account"
   ]
  },
  {
   "cell_type": "code",
   "execution_count": 4,
   "id": "793d88e9",
   "metadata": {},
   "outputs": [
    {
     "name": "stderr",
     "output_type": "stream",
     "text": [
      "I0000 00:00:1754251400.174784   26726 gpu_device.cc:2019] Created device /job:localhost/replica:0/task:0/device:GPU:0 with 2946 MB memory:  -> device: 0, name: NVIDIA GeForce RTX 4060 Laptop GPU, pci bus id: 0000:01:00.0, compute capability: 8.9\n"
     ]
    }
   ],
   "source": [
    "vectorize_layer = tf.keras.layers.TextVectorization()\n",
    "\n",
    "vectorize_layer.adapt(sentences)\n",
    "\n",
    "vocabulary = vectorize_layer.get_vocabulary()"
   ]
  },
  {
   "cell_type": "code",
   "execution_count": 5,
   "id": "543a3148",
   "metadata": {},
   "outputs": [
    {
     "name": "stdout",
     "output_type": "stream",
     "text": [
      "0 \n",
      "1 [UNK]\n",
      "2 my\n",
      "3 love\n",
      "4 dog\n",
      "5 you\n",
      "6 i\n",
      "7 think\n",
      "8 is\n",
      "9 do\n",
      "10 cat\n",
      "11 amazing\n"
     ]
    }
   ],
   "source": [
    "for index, word in enumerate(vocabulary):\n",
    "  print(index, word)"
   ]
  },
  {
   "cell_type": "markdown",
   "id": "81a6ac6a",
   "metadata": {},
   "source": [
    "input sentence to an integer sequence"
   ]
  },
  {
   "cell_type": "code",
   "execution_count": 6,
   "id": "831d02a8",
   "metadata": {},
   "outputs": [
    {
     "name": "stdout",
     "output_type": "stream",
     "text": [
      "tf.Tensor([6 3 2 4], shape=(4,), dtype=int64)\n"
     ]
    }
   ],
   "source": [
    "sample_input = 'I love my dog'\n",
    "\n",
    "sequence = vectorize_layer(sample_input)\n",
    "\n",
    "print(sequence)"
   ]
  },
  {
   "cell_type": "markdown",
   "id": "3fdc09b4",
   "metadata": {},
   "source": [
    "getting new tokens"
   ]
  },
  {
   "cell_type": "code",
   "execution_count": null,
   "id": "5361b5da",
   "metadata": {},
   "outputs": [],
   "source": [
    "for index, word in enumerate(vocabulary):\n",
    "  print(index, word)"
   ]
  },
  {
   "cell_type": "markdown",
   "id": "3ae611f7",
   "metadata": {},
   "source": [
    "including the special tokens"
   ]
  },
  {
   "cell_type": "code",
   "execution_count": null,
   "id": "a86e876d",
   "metadata": {},
   "outputs": [],
   "source": [
    "vocabulary = vectorize_layer.get_vocabulary()\n",
    "\n",
    "for index, word in enumerate(vocabulary):\n",
    "  print(index, word)"
   ]
  },
  {
   "cell_type": "code",
   "execution_count": 7,
   "id": "c386e245",
   "metadata": {},
   "outputs": [
    {
     "name": "stdout",
     "output_type": "stream",
     "text": [
      "I love my dog ---> [6 3 2 4]\n",
      "I love my cat ---> [ 6  3  2 10]\n",
      "You love my dog! ---> [5 3 2 4]\n",
      "Do you think my dog is amazing? ---> [ 9  5  7  2  4  8 11]\n"
     ]
    }
   ],
   "source": [
    "sentences_dataset = tf.data.Dataset.from_tensor_slices(sentences)\n",
    "\n",
    "sequences = sentences_dataset.map(vectorize_layer)\n",
    "\n",
    "for sentence, sequence in zip(sentences, sequences):\n",
    "  print(f'{sentence} ---> {sequence}')"
   ]
  },
  {
   "cell_type": "markdown",
   "id": "f72bbe0d",
   "metadata": {},
   "source": [
    "Using Padding Now"
   ]
  },
  {
   "cell_type": "code",
   "execution_count": 8,
   "id": "f887cdca",
   "metadata": {},
   "outputs": [
    {
     "name": "stdout",
     "output_type": "stream",
     "text": [
      "INPUT:\n",
      "['I love my dog', 'I love my cat', 'You love my dog!', 'Do you think my dog is amazing?']\n",
      "\n",
      "OUTPUT:\n",
      "tf.Tensor(\n",
      "[[ 6  3  2  4  0  0  0]\n",
      " [ 6  3  2 10  0  0  0]\n",
      " [ 5  3  2  4  0  0  0]\n",
      " [ 9  5  7  2  4  8 11]], shape=(4, 7), dtype=int64)\n"
     ]
    }
   ],
   "source": [
    "sequences_post = vectorize_layer(sentences)\n",
    "\n",
    "print('INPUT:')\n",
    "print(sentences)\n",
    "print()\n",
    "\n",
    "print('OUTPUT:')\n",
    "print(sequences_post)"
   ]
  },
  {
   "cell_type": "markdown",
   "id": "925d9236",
   "metadata": {},
   "source": [
    "pre-padding"
   ]
  },
  {
   "cell_type": "code",
   "execution_count": 9,
   "id": "94a7573c",
   "metadata": {},
   "outputs": [
    {
     "name": "stdout",
     "output_type": "stream",
     "text": [
      "INPUT:\n",
      "[6 3 2 4]\n",
      "[ 6  3  2 10]\n",
      "[5 3 2 4]\n",
      "[ 9  5  7  2  4  8 11]\n",
      "\n",
      "OUTPUT:\n",
      "[[ 0  0  0  6  3  2  4]\n",
      " [ 0  0  0  6  3  2 10]\n",
      " [ 0  0  0  5  3  2  4]\n",
      " [ 9  5  7  2  4  8 11]]\n"
     ]
    },
    {
     "name": "stderr",
     "output_type": "stream",
     "text": [
      "2025-08-04 01:38:46.450077: I tensorflow/core/framework/local_rendezvous.cc:407] Local rendezvous is aborting with status: OUT_OF_RANGE: End of sequence\n",
      "2025-08-04 01:38:46.530711: I tensorflow/core/framework/local_rendezvous.cc:407] Local rendezvous is aborting with status: OUT_OF_RANGE: End of sequence\n"
     ]
    }
   ],
   "source": [
    "sequences_pre = tf.keras.utils.pad_sequences(sequences, padding='pre')\n",
    "\n",
    "print('INPUT:')\n",
    "[print(sequence.numpy()) for sequence in sequences]\n",
    "print()\n",
    "\n",
    "print('OUTPUT:')\n",
    "print(sequences_pre)"
   ]
  },
  {
   "cell_type": "markdown",
   "id": "c99c572d",
   "metadata": {},
   "source": [
    "using post-pad"
   ]
  },
  {
   "cell_type": "code",
   "execution_count": 10,
   "id": "b4b7e47a",
   "metadata": {},
   "outputs": [
    {
     "name": "stdout",
     "output_type": "stream",
     "text": [
      "INPUT:\n",
      "[6 3 2 4]\n",
      "[ 6  3  2 10]\n",
      "[5 3 2 4]\n",
      "[ 9  5  7  2  4  8 11]\n",
      "\n",
      "OUTPUT:\n",
      "[[ 0  6  3  2  4]\n",
      " [ 0  6  3  2 10]\n",
      " [ 0  5  3  2  4]\n",
      " [ 7  2  4  8 11]]\n"
     ]
    },
    {
     "name": "stderr",
     "output_type": "stream",
     "text": [
      "2025-08-04 01:39:30.224342: I tensorflow/core/framework/local_rendezvous.cc:407] Local rendezvous is aborting with status: OUT_OF_RANGE: End of sequence\n"
     ]
    }
   ],
   "source": [
    "sequences_post_trunc = tf.keras.utils.pad_sequences(sequences, maxlen=5, padding='pre')\n",
    "\n",
    "print('INPUT:')\n",
    "[print(sequence.numpy()) for sequence in sequences]\n",
    "print()\n",
    "\n",
    "print('OUTPUT:')\n",
    "print(sequences_post_trunc)"
   ]
  },
  {
   "cell_type": "markdown",
   "id": "d09ef4d2",
   "metadata": {},
   "source": [
    "using ragged tensors instead"
   ]
  },
  {
   "cell_type": "code",
   "execution_count": 11,
   "id": "a9556a58",
   "metadata": {},
   "outputs": [
    {
     "name": "stdout",
     "output_type": "stream",
     "text": [
      "<tf.RaggedTensor [[6, 3, 2, 4], [6, 3, 2, 10], [5, 3, 2, 4], [9, 5, 7, 2, 4, 8, 11]]>\n"
     ]
    }
   ],
   "source": [
    "vectorize_layer = tf.keras.layers.TextVectorization(ragged=True)\n",
    "\n",
    "vectorize_layer.adapt(sentences)\n",
    "\n",
    "ragged_sequences = vectorize_layer(sentences)\n",
    "\n",
    "print(ragged_sequences)"
   ]
  },
  {
   "cell_type": "code",
   "execution_count": 12,
   "id": "9d1edc58",
   "metadata": {},
   "outputs": [
    {
     "name": "stdout",
     "output_type": "stream",
     "text": [
      "[[ 0  0  0  6  3  2  4]\n",
      " [ 0  0  0  6  3  2 10]\n",
      " [ 0  0  0  5  3  2  4]\n",
      " [ 9  5  7  2  4  8 11]]\n"
     ]
    }
   ],
   "source": [
    "sequences_pre = tf.keras.utils.pad_sequences(ragged_sequences.numpy())\n",
    "\n",
    "print(sequences_pre)"
   ]
  },
  {
   "cell_type": "markdown",
   "id": "3f369c72",
   "metadata": {},
   "source": [
    "out of vocab tokens"
   ]
  },
  {
   "cell_type": "code",
   "execution_count": 13,
   "id": "09c812c8",
   "metadata": {},
   "outputs": [
    {
     "name": "stdout",
     "output_type": "stream",
     "text": [
      "i really love my dog ---> [6 1 3 2 4]\n",
      "my dog loves my manatee ---> [2 4 1 2 1]\n"
     ]
    }
   ],
   "source": [
    "sentences_with_oov = [\n",
    "    'i really love my dog',\n",
    "    'my dog loves my manatee'\n",
    "]\n",
    "\n",
    "sequences_with_oov = vectorize_layer(sentences_with_oov)\n",
    "\n",
    "for sentence, sequence in zip(sentences_with_oov, sequences_with_oov):\n",
    "  print(f'{sentence} ---> {sequence}')"
   ]
  }
 ],
 "metadata": {
  "kernelspec": {
   "display_name": ".venv",
   "language": "python",
   "name": "python3"
  },
  "language_info": {
   "codemirror_mode": {
    "name": "ipython",
    "version": 3
   },
   "file_extension": ".py",
   "mimetype": "text/x-python",
   "name": "python",
   "nbconvert_exporter": "python",
   "pygments_lexer": "ipython3",
   "version": "3.12.11"
  }
 },
 "nbformat": 4,
 "nbformat_minor": 5
}
