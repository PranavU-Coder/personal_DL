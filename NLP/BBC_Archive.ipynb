{
 "cells": [
  {
   "cell_type": "markdown",
   "id": "d6904a82",
   "metadata": {},
   "source": [
    "imports"
   ]
  },
  {
   "cell_type": "code",
   "execution_count": 2,
   "id": "b2a28314",
   "metadata": {},
   "outputs": [],
   "source": [
    "import csv\n",
    "import pandas as pd\n",
    "import numpy as np\n",
    "import tensorflow as tf"
   ]
  },
  {
   "cell_type": "markdown",
   "id": "7ec06d3a",
   "metadata": {},
   "source": [
    "inspecting the dataset"
   ]
  },
  {
   "cell_type": "code",
   "execution_count": 3,
   "id": "a06fa1b5",
   "metadata": {},
   "outputs": [
    {
     "name": "stdout",
     "output_type": "stream",
     "text": [
      "First line (header) looks like this:\n",
      "\n",
      "category,text\n",
      "\n",
      "Each data point looks like this:\n",
      "\n",
      "tech,tv future in the hands of viewers with home theatre systems  plasma high-definition tvs  and digital video recorders moving into the living room  the way people watch tv will be radically different in five years  time.  that is according to an expert panel which gathered at the annual consumer electronics show in las vegas to discuss how these new technologies will impact one of our favourite pastimes. with the us leading the trend  programmes and other content will be delivered to viewers via home networks  through cable  satellite  telecoms companies  and broadband service providers to front rooms and portable devices.  one of the most talked-about technologies of ces has been digital and personal video recorders (dvr and pvr). these set-top boxes  like the us s tivo and the uk s sky+ system  allow people to record  store  play  pause and forward wind tv programmes when they want.  essentially  the technology allows for much more personalised tv. they are also being built-in to high-definition tv sets  which are big business in japan and the us  but slower to take off in europe because of the lack of high-definition programming. not only can people forward wind through adverts  they can also forget about abiding by network and channel schedules  putting together their own a-la-carte entertainment. but some us networks and cable and satellite companies are worried about what it means for them in terms of advertising revenues as well as  brand identity  and viewer loyalty to channels. although the us leads in this technology at the moment  it is also a concern that is being raised in europe  particularly with the growing uptake of services like sky+.  what happens here today  we will see in nine months to a years  time in the uk   adam hume  the bbc broadcast s futurologist told the bbc news website. for the likes of the bbc  there are no issues of lost advertising revenue yet. it is a more pressing issue at the moment for commercial uk broadcasters  but brand loyalty is important for everyone.  we will be talking more about content brands rather than network brands   said tim hanlon  from brand communications firm starcom mediavest.  the reality is that with broadband connections  anybody can be the producer of content.  he added:  the challenge now is that it is hard to promote a programme with so much choice.   what this means  said stacey jolna  senior vice president of tv guide tv group  is that the way people find the content they want to watch has to be simplified for tv viewers. it means that networks  in us terms  or channels could take a leaf out of google s book and be the search engine of the future  instead of the scheduler to help people find what they want to watch. this kind of channel model might work for the younger ipod generation which is used to taking control of their gadgets and what they play on them. but it might not suit everyone  the panel recognised. older generations are more comfortable with familiar schedules and channel brands because they know what they are getting. they perhaps do not want so much of the choice put into their hands  mr hanlon suggested.  on the other end  you have the kids just out of diapers who are pushing buttons already - everything is possible and available to them   said mr hanlon.  ultimately  the consumer will tell the market they want.   of the 50 000 new gadgets and technologies being showcased at ces  many of them are about enhancing the tv-watching experience. high-definition tv sets are everywhere and many new models of lcd (liquid crystal display) tvs have been launched with dvr capability built into them  instead of being external boxes. one such example launched at the show is humax s 26-inch lcd tv with an 80-hour tivo dvr and dvd recorder. one of the us s biggest satellite tv companies  directtv  has even launched its own branded dvr at the show with 100-hours of recording capability  instant replay  and a search function. the set can pause and rewind tv for up to 90 hours. and microsoft chief bill gates announced in his pre-show keynote speech a partnership with tivo  called tivotogo  which means people can play recorded programmes on windows pcs and mobile devices. all these reflect the increasing trend of freeing up multimedia so that people can watch what they want  when they want.\n",
      "\n"
     ]
    }
   ],
   "source": [
    "with open(\"data/bbc-text.csv\", 'r') as csvfile:\n",
    "    print(f\"First line (header) looks like this:\\n\\n{csvfile.readline()}\")\n",
    "    print(f\"Each data point looks like this:\\n\\n{csvfile.readline()}\")"
   ]
  },
  {
   "cell_type": "markdown",
   "id": "4103f6c8",
   "metadata": {},
   "source": [
    "parse data from file in form of lists -> sentences and labels"
   ]
  },
  {
   "cell_type": "code",
   "execution_count": 4,
   "id": "ff4ef911",
   "metadata": {},
   "outputs": [],
   "source": [
    "def parse_data_from_file(filename):\n",
    "\n",
    "    sentences = []\n",
    "    labels = []\n",
    "    \n",
    "    with open(filename, mode='r', encoding='utf-8') as file:\n",
    "        reader = csv.DictReader(file)  \n",
    "        for row in reader:\n",
    "            sentences.append(row['text']) \n",
    "            labels.append(row['category'])   \n",
    "            \n",
    "    \n",
    "    return sentences, labels"
   ]
  },
  {
   "cell_type": "code",
   "execution_count": 5,
   "id": "96f2d737",
   "metadata": {},
   "outputs": [
    {
     "name": "stdout",
     "output_type": "stream",
     "text": [
      "There are 2225 sentences in the dataset.\n",
      "\n",
      "First sentence has 737 words.\n",
      "\n",
      "There are 2225 labels in the dataset.\n",
      "\n",
      "The first 5 labels are ['tech', 'business', 'sport', 'sport', 'entertainment']\n",
      "\n",
      "\n"
     ]
    }
   ],
   "source": [
    "sentences, labels = parse_data_from_file(\"data/bbc-text.csv\")\n",
    "\n",
    "print(f\"There are {len(sentences)} sentences in the dataset.\\n\")\n",
    "print(f\"First sentence has {len(sentences[0].split())} words.\\n\")\n",
    "print(f\"There are {len(labels)} labels in the dataset.\\n\")\n",
    "print(f\"The first 5 labels are {labels[:5]}\\n\\n\")"
   ]
  },
  {
   "cell_type": "markdown",
   "id": "69f058fe",
   "metadata": {},
   "source": [
    "a list of common stopwords"
   ]
  },
  {
   "cell_type": "code",
   "execution_count": 6,
   "id": "e8ee7b75",
   "metadata": {},
   "outputs": [],
   "source": [
    "STOPWORDS = [\"a\", \"about\", \"above\", \"after\", \"again\", \"against\", \"all\", \"am\", \"an\", \"and\", \"any\", \"are\", \"as\", \"at\", \"be\", \"because\", \"been\", \"before\", \"being\", \"below\", \"between\", \"both\", \"but\", \"by\", \"could\", \"did\", \"do\", \"does\", \"doing\", \"down\", \"during\", \"each\", \"few\", \"for\", \"from\", \"further\", \"had\", \"has\", \"have\", \"having\", \"he\", \"he'd\", \"he'll\", \"he's\", \"her\", \"here\", \"here's\", \"hers\", \"herself\", \"him\", \"himself\", \"his\", \"how\", \"how's\", \"i\", \"i'd\", \"i'll\", \"i'm\", \"i've\", \"if\", \"in\", \"into\", \"is\", \"it\", \"it's\", \"its\", \"itself\", \"let's\", \"me\", \"more\", \"most\", \"my\", \"myself\", \"nor\", \"of\", \"on\", \"once\", \"only\", \"or\", \"other\", \"ought\", \"our\", \"ours\", \"ourselves\", \"out\", \"over\", \"own\", \"same\", \"she\", \"she'd\", \"she'll\", \"she's\", \"should\", \"so\", \"some\", \"such\", \"than\", \"that\", \"that's\", \"the\", \"their\", \"theirs\", \"them\", \"themselves\", \"then\", \"there\", \"there's\", \"these\", \"they\", \"they'd\", \"they'll\", \"they're\", \"they've\", \"this\", \"those\", \"through\", \"to\", \"too\", \"under\", \"until\", \"up\", \"very\", \"was\", \"we\", \"we'd\", \"we'll\", \"we're\", \"we've\", \"were\", \"what\", \"what's\", \"when\", \"when's\", \"where\", \"where's\", \"which\", \"while\", \"who\", \"who's\", \"whom\", \"why\", \"why's\", \"with\", \"would\", \"you\", \"you'd\", \"you'll\", \"you're\", \"you've\", \"your\", \"yours\", \"yourself\", \"yourselves\" ]"
   ]
  },
  {
   "cell_type": "markdown",
   "id": "5617a23a",
   "metadata": {},
   "source": [
    "a function which receives a string and return another string that excludes all of the stopwords provided from it, as well as converting it to lower-case. "
   ]
  },
  {
   "cell_type": "code",
   "execution_count": 7,
   "id": "9f048574",
   "metadata": {},
   "outputs": [],
   "source": [
    "def standardize_func(sentence):\n",
    "    \n",
    "    sentence = sentence.lower()\n",
    "    \n",
    "    words = sentence.split()\n",
    "    \n",
    "    filtered_words = [word for word in words if word not in STOPWORDS]\n",
    "    \n",
    "    sentence = \" \".join(filtered_words)\n",
    "\n",
    "    return sentence"
   ]
  },
  {
   "cell_type": "code",
   "execution_count": 8,
   "id": "f9eb2cae",
   "metadata": {},
   "outputs": [
    {
     "name": "stdout",
     "output_type": "stream",
     "text": [
      "Original sentence is:\n",
      "Hello! We're just about to see this function in action =)\n",
      "\n",
      "After standardizing:\n",
      "hello! just see function action =)\n",
      "\n",
      "\n",
      "--- Apply the standardization to the dataset ---\n",
      "\n",
      "There are 2225 sentences in the dataset.\n",
      "\n",
      "First sentence has 737 words originally.\n",
      "\n",
      "First sentence has 436 words (after removing stopwords).\n",
      "\n"
     ]
    }
   ],
   "source": [
    "test_sentence = \"Hello! We're just about to see this function in action =)\"\n",
    "standardized_sentence = standardize_func(test_sentence)\n",
    "print(f\"Original sentence is:\\n{test_sentence}\\n\\nAfter standardizing:\\n{standardized_sentence}\")\n",
    "\n",
    "standard_sentences = [standardize_func(sentence) for sentence in sentences]\n",
    "\n",
    "print(\"\\n\\n--- Apply the standardization to the dataset ---\\n\")\n",
    "print(f\"There are {len(standard_sentences)} sentences in the dataset.\\n\")\n",
    "print(f\"First sentence has {len(sentences[0].split())} words originally.\\n\")\n",
    "print(f\"First sentence has {len(standard_sentences[0].split())} words (after removing stopwords).\\n\")"
   ]
  },
  {
   "cell_type": "markdown",
   "id": "2a73ea33",
   "metadata": {},
   "source": [
    "vectorizing the sentences of dataset"
   ]
  },
  {
   "cell_type": "code",
   "execution_count": 9,
   "id": "f8e2b8d4",
   "metadata": {},
   "outputs": [],
   "source": [
    "def fit_vectorizer(sentences):\n",
    "\n",
    "    vectorizer = tf.keras.layers.TextVectorization()\n",
    "    \n",
    "    vectorizer.adapt(sentences)\n",
    "    \n",
    "    return vectorizer"
   ]
  },
  {
   "cell_type": "code",
   "execution_count": 10,
   "id": "a90663ff",
   "metadata": {},
   "outputs": [
    {
     "name": "stderr",
     "output_type": "stream",
     "text": [
      "I0000 00:00:1755189442.347854   50462 gpu_device.cc:2019] Created device /job:localhost/replica:0/task:0/device:GPU:0 with 5065 MB memory:  -> device: 0, name: NVIDIA GeForce RTX 4060 Laptop GPU, pci bus id: 0000:01:00.0, compute capability: 8.9\n"
     ]
    },
    {
     "name": "stdout",
     "output_type": "stream",
     "text": [
      "Vocabulary contains 33088 words\n",
      "\n",
      "[UNK] token included in vocabulary\n"
     ]
    }
   ],
   "source": [
    "vectorizer = fit_vectorizer(standard_sentences)\n",
    "\n",
    "vocabulary = vectorizer.get_vocabulary()\n",
    "\n",
    "print(f\"Vocabulary contains {len(vocabulary)} words\\n\")\n",
    "print(\"[UNK] token included in vocabulary\" if \"[UNK]\" in vocabulary else \"[UNK] token NOT included in vocabulary\")"
   ]
  },
  {
   "cell_type": "code",
   "execution_count": 11,
   "id": "aa3176fa",
   "metadata": {},
   "outputs": [
    {
     "name": "stdout",
     "output_type": "stream",
     "text": [
      "First padded sequence looks like this: \n",
      "\n",
      "[  93  155 1186 ...    0    0    0]\n",
      "\n",
      "Tensor of all sequences has shape: (2225, 2418)\n",
      "\n",
      "This means there are 2225 sequences in total and each one has a size of 2418\n"
     ]
    }
   ],
   "source": [
    "padded_sequences = vectorizer(standard_sentences)\n",
    "\n",
    "print(f\"First padded sequence looks like this: \\n\\n{padded_sequences[0]}\\n\")\n",
    "print(f\"Tensor of all sequences has shape: {padded_sequences.shape}\\n\")\n",
    "print(f\"This means there are {padded_sequences.shape[0]} sequences in total and each one has a size of {padded_sequences.shape[1]}\")"
   ]
  },
  {
   "cell_type": "markdown",
   "id": "833c4e08",
   "metadata": {},
   "source": [
    "With the sentences already vectorized it is time to encode the labels so they can also be fed into a neural network."
   ]
  },
  {
   "cell_type": "code",
   "execution_count": 12,
   "id": "26debf03",
   "metadata": {},
   "outputs": [],
   "source": [
    "def fit_label_encoder(labels):\n",
    "\n",
    "    label_encoder = tf.keras.layers.StringLookup(mask_token=None, oov_token=None,num_oov_indices=0)\n",
    "    label_encoder.adapt(labels)\n",
    "    \n",
    "    return label_encoder"
   ]
  },
  {
   "cell_type": "code",
   "execution_count": 13,
   "id": "46b7f301",
   "metadata": {},
   "outputs": [
    {
     "name": "stdout",
     "output_type": "stream",
     "text": [
      "Vocabulary of labels looks like this: [np.str_('sport'), np.str_('business'), np.str_('politics'), np.str_('tech'), np.str_('entertainment')]\n",
      "\n",
      "First ten labels: ['tech', 'business', 'sport', 'sport', 'entertainment', 'politics', 'politics', 'sport', 'sport', 'entertainment']\n",
      "\n",
      "First ten label sequences: [3 1 0 0 4 2 2 0 0 4]\n",
      "\n"
     ]
    }
   ],
   "source": [
    "label_encoder = fit_label_encoder(labels)\n",
    "\n",
    "vocabulary = label_encoder.get_vocabulary()\n",
    "\n",
    "label_sequences = label_encoder(labels)\n",
    "\n",
    "print(f\"Vocabulary of labels looks like this: {vocabulary}\\n\")\n",
    "print(f\"First ten labels: {labels[:10]}\\n\")\n",
    "print(f\"First ten label sequences: {label_sequences[:10]}\\n\")"
   ]
  }
 ],
 "metadata": {
  "kernelspec": {
   "display_name": ".venv",
   "language": "python",
   "name": "python3"
  },
  "language_info": {
   "codemirror_mode": {
    "name": "ipython",
    "version": 3
   },
   "file_extension": ".py",
   "mimetype": "text/x-python",
   "name": "python",
   "nbconvert_exporter": "python",
   "pygments_lexer": "ipython3",
   "version": "3.12.11"
  }
 },
 "nbformat": 4,
 "nbformat_minor": 5
}
